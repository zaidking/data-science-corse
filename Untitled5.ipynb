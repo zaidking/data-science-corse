{
 "cells": [
  {
   "cell_type": "code",
   "execution_count": 1,
   "id": "b1fb77ba",
   "metadata": {},
   "outputs": [
    {
     "name": "stdout",
     "output_type": "stream",
     "text": [
      "Twinkle,twinkle,little star,\n",
      "       How I wonder what you are!\n",
      "             Up above the world so high,\n",
      "             Like a diomand in the sky.\n",
      "Twinkle,twinkle,little sar,\n",
      "        How I wonder what you are\n"
     ]
    }
   ],
   "source": [
    "print(\"Twinkle,twinkle,little star,\")\n",
    "print(\"       How I wonder what you are!\")\n",
    "print(\"             Up above the world so high,\")\n",
    "print(\"             Like a diomand in the sky.\")\n",
    "print(\"Twinkle,twinkle,little sar,\")\n",
    "print(\"        How I wonder what you are\" )"
   ]
  },
  {
   "cell_type": "code",
   "execution_count": 2,
   "id": "eada8fdc",
   "metadata": {},
   "outputs": [
    {
     "name": "stdout",
     "output_type": "stream",
     "text": [
      "3.9.7 (default, Sep 16 2021, 16:59:28) [MSC v.1916 64 bit (AMD64)]\n"
     ]
    }
   ],
   "source": [
    "import sys\n",
    "print(sys.version)"
   ]
  },
  {
   "cell_type": "code",
   "execution_count": 3,
   "id": "8225ef28",
   "metadata": {},
   "outputs": [
    {
     "name": "stdout",
     "output_type": "stream",
     "text": [
      "Current date and time = 2022-01-01 00:45:01.632372\n"
     ]
    }
   ],
   "source": [
    "import datetime\n",
    "e = datetime.datetime.now()\n",
    "print (\"Current date and time = %s\" % e)\n"
   ]
  },
  {
   "cell_type": "code",
   "execution_count": 5,
   "id": "e7a63d8a",
   "metadata": {},
   "outputs": [
    {
     "name": "stdout",
     "output_type": "stream",
     "text": [
      "Enter the radius\n",
      "4\n",
      "The area is\n",
      "25.136\n"
     ]
    }
   ],
   "source": [
    "pie=3.142\n",
    "print(\"Enter the radius\")\n",
    "radius=float(input())\n",
    "area=2*pie*radius\n",
    "print(\"The area is\")\n",
    "print(area)"
   ]
  },
  {
   "cell_type": "code",
   "execution_count": 1,
   "id": "80f8e2c3",
   "metadata": {},
   "outputs": [
    {
     "name": "stdout",
     "output_type": "stream",
     "text": [
      "Enter first name\n",
      "khalid\n",
      "Enter second name\n",
      "zaid\n",
      "zaid khalid\n"
     ]
    }
   ],
   "source": [
    "print(\"Enter first name\")\n",
    "fn=input()\n",
    "print(\"Enter second name\")\n",
    "sn=input()\n",
    "print(sn,fn)"
   ]
  },
  {
   "cell_type": "code",
   "execution_count": 3,
   "id": "8e584971",
   "metadata": {},
   "outputs": [
    {
     "name": "stdout",
     "output_type": "stream",
     "text": [
      "Enter the first number\n",
      "4\n",
      "Enter the second number\n",
      "77\n",
      "The answer is : 81\n"
     ]
    }
   ],
   "source": [
    "print(\"Enter the first number\")\n",
    "fn=int(input())\n",
    "print(\"Enter the second number\")\n",
    "sn=int(input())\n",
    "answer=fn+sn\n",
    "print(\"The answer is :\",answer)"
   ]
  },
  {
   "cell_type": "code",
   "execution_count": null,
   "id": "71bc83a3",
   "metadata": {},
   "outputs": [],
   "source": []
  }
 ],
 "metadata": {
  "kernelspec": {
   "display_name": "Python 3 (ipykernel)",
   "language": "python",
   "name": "python3"
  },
  "language_info": {
   "codemirror_mode": {
    "name": "ipython",
    "version": 3
   },
   "file_extension": ".py",
   "mimetype": "text/x-python",
   "name": "python",
   "nbconvert_exporter": "python",
   "pygments_lexer": "ipython3",
   "version": "3.9.7"
  }
 },
 "nbformat": 4,
 "nbformat_minor": 5
}
